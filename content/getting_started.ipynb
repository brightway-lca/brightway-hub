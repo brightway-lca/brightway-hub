{
 "cells": [
  {
   "attachments": {},
   "cell_type": "markdown",
   "metadata": {},
   "source": [
    "`Designed for Brightway2` \\\n",
    "`v1` \\\n",
    "`13-04-2023` \\\n",
    "`Authors: Michael Weinold (@michaelweinold) and Chris Mutel (@cmutel)`"
   ]
  },
  {
   "attachments": {},
   "cell_type": "markdown",
   "metadata": {},
   "source": [
    "# Imports"
   ]
  },
  {
   "cell_type": "code",
   "execution_count": 27,
   "metadata": {},
   "outputs": [],
   "source": [
    "import zipfile\n",
    "import os\n",
    "import stats_arrays"
   ]
  },
  {
   "cell_type": "code",
   "execution_count": 1,
   "metadata": {
    "collapsed": false
   },
   "outputs": [],
   "source": [
    "import bw2data\n",
    "import bw2io\n",
    "import bw2calc\n",
    "import bw2analyzer"
   ]
  },
  {
   "cell_type": "code",
   "execution_count": 2,
   "metadata": {},
   "outputs": [],
   "source": [
    "# type hints\n",
    "from bw2data.backends.peewee.database import SQLiteBackend\n",
    "from bw2data.backends.peewee.proxies import Activity"
   ]
  },
  {
   "attachments": {},
   "cell_type": "markdown",
   "metadata": {},
   "source": [
    "# Projects\n",
    "\n",
    "In Brightway2, a project is a separate directory with its own copies of LCI databases, LCIA methods, and any other data you use. Each research project or article should probably be its own project, so that any changes you want to make will not interfere with your other work. The default project is called ``default``:"
   ]
  },
  {
   "cell_type": "code",
   "execution_count": 3,
   "metadata": {
    "collapsed": false
   },
   "outputs": [
    {
     "name": "stdout",
     "output_type": "stream",
     "text": [
      "default\n",
      "/Users/michaelweinold/Library/Application Support/Brightway3/default.c21f969b5f03d33d43e04f8f136e7682\n"
     ]
    }
   ],
   "source": [
    "print(bw2data.projects.current)\n",
    "print(bw2data.projects.dir)"
   ]
  },
  {
   "attachments": {},
   "cell_type": "markdown",
   "metadata": {},
   "source": [
    "We can create a new project:"
   ]
  },
  {
   "cell_type": "code",
   "execution_count": 4,
   "metadata": {
    "collapsed": true
   },
   "outputs": [],
   "source": [
    "bw2data.projects.set_current(\"bw2intro\")"
   ]
  },
  {
   "cell_type": "markdown",
   "metadata": {},
   "source": [
    "And list the available projects:"
   ]
  },
  {
   "cell_type": "code",
   "execution_count": 5,
   "metadata": {
    "collapsed": false
   },
   "outputs": [
    {
     "data": {
      "text/plain": [
       "Brightway2 projects manager with 7 objects:\n",
       "\t3.8\n",
       "\t3.9\n",
       "\t3.9.1\n",
       "\tbw2intro\n",
       "\tdefault\n",
       "\tecoinvent35\n",
       "\tecoinvent38\n",
       "Use `projects.report()` to get a report on all projects."
      ]
     },
     "execution_count": 5,
     "metadata": {},
     "output_type": "execute_result"
    }
   ],
   "source": [
    "bw2data.projects"
   ]
  },
  {
   "attachments": {},
   "cell_type": "markdown",
   "metadata": {},
   "source": [
    "Projects can be deleted:"
   ]
  },
  {
   "cell_type": "code",
   "execution_count": 6,
   "metadata": {},
   "outputs": [
    {
     "data": {
      "text/plain": [
       "'bw2intro'"
      ]
     },
     "execution_count": 6,
     "metadata": {},
     "output_type": "execute_result"
    }
   ],
   "source": [
    "bw2data.projects.delete_project(name = 'default', delete_dir = True)"
   ]
  },
  {
   "attachments": {},
   "cell_type": "markdown",
   "metadata": {},
   "source": [
    "# Biosphere Dataset\n",
    "\n",
    "The `bw2io.bw2setup()` function can import some basic data: a database of elementary flows, some LCIA methods, and some metadata used for importing other databases."
   ]
  },
  {
   "cell_type": "code",
   "execution_count": 7,
   "metadata": {
    "collapsed": false
   },
   "outputs": [
    {
     "name": "stdout",
     "output_type": "stream",
     "text": [
      "Biosphere database already present!!! No setup is needed\n"
     ]
    }
   ],
   "source": [
    "bw2io.bw2setup()"
   ]
  },
  {
   "cell_type": "code",
   "execution_count": 8,
   "metadata": {},
   "outputs": [],
   "source": [
    "db: SQLiteBackend = bw2data.Database(\"biosphere3\")"
   ]
  },
  {
   "attachments": {},
   "cell_type": "markdown",
   "metadata": {},
   "source": [
    "The number of biosphere flows is:"
   ]
  },
  {
   "cell_type": "code",
   "execution_count": 9,
   "metadata": {},
   "outputs": [
    {
     "data": {
      "text/plain": [
       "4709"
      ]
     },
     "execution_count": 9,
     "metadata": {},
     "output_type": "execute_result"
    }
   ],
   "source": [
    "len(db)"
   ]
  },
  {
   "attachments": {},
   "cell_type": "markdown",
   "metadata": {},
   "source": [
    "We can get a random flow and the associated name, unit and categories:"
   ]
  },
  {
   "cell_type": "code",
   "execution_count": 10,
   "metadata": {},
   "outputs": [],
   "source": [
    "random_flow: Activity = db.random()"
   ]
  },
  {
   "cell_type": "code",
   "execution_count": 11,
   "metadata": {},
   "outputs": [
    {
     "data": {
      "text/plain": [
       "'Acetonitrile' (kilogram, None, ('water',))"
      ]
     },
     "execution_count": 11,
     "metadata": {},
     "output_type": "execute_result"
    }
   ],
   "source": [
    "random_flow"
   ]
  },
  {
   "cell_type": "code",
   "execution_count": 12,
   "metadata": {},
   "outputs": [
    {
     "name": "stdout",
     "output_type": "stream",
     "text": [
      "Acetonitrile\n",
      "kilogram\n",
      "('water',)\n"
     ]
    }
   ],
   "source": [
    "print(random_flow['name'])\n",
    "print(random_flow['unit'])\n",
    "print(random_flow['categories'])"
   ]
  },
  {
   "attachments": {},
   "cell_type": "markdown",
   "metadata": {},
   "source": [
    "Brightway2 uses keys to identify datasets. Each dataset is identified by a combination of its database and some unique code. The code can be anything - a number, a UUID, or just a name."
   ]
  },
  {
   "cell_type": "code",
   "execution_count": 18,
   "metadata": {},
   "outputs": [
    {
     "data": {
      "text/plain": [
       "('biosphere3', '4d07c245-a030-5399-a74e-aaac30014ec3')"
      ]
     },
     "execution_count": 18,
     "metadata": {},
     "output_type": "execute_result"
    }
   ],
   "source": [
    "random_flow.key"
   ]
  },
  {
   "attachments": {},
   "cell_type": "markdown",
   "metadata": {},
   "source": [
    "# LCIA Methods Dataset\n",
    "\n",
    "The `bw2io.bw2setup()` function also installed a large number of LCIA methods:"
   ]
  },
  {
   "cell_type": "code",
   "execution_count": 19,
   "metadata": {},
   "outputs": [
    {
     "data": {
      "text/plain": [
       "Methods dictionary with 762 objects, including:\n",
       "\t('CML v4.8 2016', 'acidification', 'acidification (incl. fate, average Europe total, A&B)')\n",
       "\t('CML v4.8 2016', 'climate change', 'global warming potential (GWP100)')\n",
       "\t('CML v4.8 2016', 'ecotoxicity: freshwater', 'freshwater aquatic ecotoxicity (FAETP inf)')\n",
       "\t('CML v4.8 2016', 'ecotoxicity: marine', 'marine aquatic ecotoxicity (MAETP inf)')\n",
       "\t('CML v4.8 2016', 'ecotoxicity: terrestrial', 'terrestrial ecotoxicity (TETP inf)')\n",
       "\t('CML v4.8 2016', 'energy resources: non-renewable', 'abiotic depletion potential (ADP): fossil fuels')\n",
       "\t('CML v4.8 2016', 'eutrophication', 'eutrophication (fate not incl.)')\n",
       "\t('CML v4.8 2016', 'human toxicity', 'human toxicity (HTP inf)')\n",
       "\t('CML v4.8 2016', 'material resources: metals/minerals', 'abiotic depletion potential (ADP): elements (ultimate reserves)')\n",
       "\t('CML v4.8 2016', 'ozone depletion', 'ozone layer depletion (ODP steady state)')\n",
       "Use `list(this object)` to get the complete list."
      ]
     },
     "execution_count": 19,
     "metadata": {},
     "output_type": "execute_result"
    }
   ],
   "source": [
    "bw2data.methods"
   ]
  },
  {
   "attachments": {},
   "cell_type": "markdown",
   "metadata": {},
   "source": [
    "The number of methods is:"
   ]
  },
  {
   "cell_type": "code",
   "execution_count": 20,
   "metadata": {
    "collapsed": false
   },
   "outputs": [
    {
     "data": {
      "text/plain": [
       "762"
      ]
     },
     "execution_count": 20,
     "metadata": {},
     "output_type": "execute_result"
    }
   ],
   "source": [
    "len(bw2data.methods)"
   ]
  },
  {
   "cell_type": "markdown",
   "metadata": {},
   "source": [
    "Because LCIA methods have many different impact categories, they are identified not by a single label, but by a list of labels. Let's look at an example:"
   ]
  },
  {
   "cell_type": "code",
   "execution_count": 15,
   "metadata": {
    "collapsed": false
   },
   "outputs": [
    {
     "data": {
      "text/plain": [
       "('ReCiPe 2016 v1.03, endpoint (I) no LT',\n",
       " 'total: human health no LT',\n",
       " 'human health no LT')"
      ]
     },
     "execution_count": 15,
     "metadata": {},
     "output_type": "execute_result"
    }
   ],
   "source": [
    "method_key: tuple = bw2data.methods.random()\n",
    "method_key"
   ]
  },
  {
   "attachments": {},
   "cell_type": "markdown",
   "metadata": {},
   "source": [
    "In this case, the LCIA method has three levels of specificity, from the general name (first level) to the specific impact category (last level). There is nothing magic about three levels - you could have one, or one hundred - but Brightway2 expects that LCIA methods will be a list of text labels ``('like', 'this')``."
   ]
  },
  {
   "cell_type": "markdown",
   "metadata": {},
   "source": [
    "We can load the method data, show a sample.\n",
    "\n",
    "Method data has the format:\n",
    "\n",
    "    biosphere flow, numeric value, location\n",
    "\n",
    "Where:\n",
    "\n",
    "* `biosphere flow` is a dataset from any database which is used as a biosphere flow.\n",
    "* `numeric value` can be either a fixed number or an uncertainty distribution.\n",
    "* `location` is optional; the default value is that this characterization factor is valid everywhere.\n",
    "\n",
    "The method data format is pretty flexible, and the following are all acceptable:\n",
    "\n",
    "    [('biosphere', 'CO2'), 1.0],                                             # Default location\n",
    "    [('biosphere', 'CO2'), 1.0, 'Australia, mate!'],                         # Custom location\n",
    "    [('biosphere', 'CO2'), 1.0, ('Population density', 'Raster cell 4,2')],  # Location inside a geocollection\n",
    "    [('biosphere', 'CO2'), {'amount': 1.0, 'uncertainty type': 0}],          # Uncertain characterization factor\n",
    "\n",
    "[Geocollections](http://brightway2-regional.readthedocs.org/#spatial-scales-geocollections) are needed for regionalized LCA.\n",
    "\n",
    "If you are wondering why we need to identify biosphere flows like `('biosphere', '2fe885840cebfcc7d56b607b0acd9359')`, this is a good question! The short answer is that there is no single field that uniquely identifies biosphere flows or activities. The longer answer [is in the manual](https://docs.brightwaylca.org/intro.html#uniquely-identifying-activities).\n",
    "\n",
    "Brightway2 is designed to be flexible enough for many different problems. Therefore, there are no limits on what constitutes a biosphere flow. Rather, anything that is linked to in a biosphere exchange will be put in the biosphere matrix. We installed a database called `biosphere3`, but you can define new flows in a database alongside process datasets, or create your own biosphere database."
   ]
  },
  {
   "cell_type": "code",
   "execution_count": 40,
   "metadata": {
    "collapsed": false
   },
   "outputs": [
    {
     "name": "stdout",
     "output_type": "stream",
     "text": [
      "Number of CFs: 792\n"
     ]
    },
    {
     "data": {
      "text/plain": [
       "[(('biosphere3', 'f681eb3c-854a-4f78-bcfe-76dfbcf9df3c'), 2.22107612959e-06),\n",
       " (('biosphere3', 'e2d860e3-1038-4386-a5f1-25ad75d18bbd'), 2.14240130852e-08),\n",
       " (('biosphere3', '9fbec2f4-6b42-4e63-9573-14e04befe20f'), 3.97819564124e-09),\n",
       " (('biosphere3', '99c07b66-c039-4896-866d-06abdaa9d46a'), 5.39267954175e-08),\n",
       " (('biosphere3', 'cdcdbfc9-3d5f-4e78-8033-8dbecbb2cfec'), 0.000350740558118),\n",
       " (('biosphere3', '5ad58fcc-e9ba-4155-a3c9-e4ffb3065a6f'), 1.11019655928e-06),\n",
       " (('biosphere3', 'eb23cf3a-b866-458d-94b3-9aee4145fcc9'), 1.10822971148e-07),\n",
       " (('biosphere3', '1f130425-11f9-4ec2-8d2f-d282acaacf5c'), 9.67186558462e-09),\n",
       " (('biosphere3', '56dea244-390c-4f56-8b11-c8de2902816e'), 9.7246994101e-08),\n",
       " (('biosphere3', '7ed6dc0d-9c2e-4046-a44b-e8a708c2081e'), 0.00140792037782),\n",
       " (('biosphere3', '42f51ad5-6190-4641-b961-f411310554e9'), 9.70801684411e-05),\n",
       " (('biosphere3', 'ec9b8886-22ef-452b-9347-88dd1ab3a6a5'), 7.68478964109e-06),\n",
       " (('biosphere3', 'fbe48c6a-321d-44ae-8883-b6fa4e0f4e77'), 4.44134951538e-05),\n",
       " (('biosphere3', '594fdc19-25cd-4c22-b3f3-58b1f2f42965'), 0.000116110051014),\n",
       " (('biosphere3', '79def65c-bd77-4fb2-a1df-f4dba98ada8f'), 1.77946318624e-06),\n",
       " (('biosphere3', '3ea5684a-6d64-4f96-8c09-1d90f997c9d4'), 0.000186565323829),\n",
       " (('biosphere3', '042de84f-261d-4e29-bb7d-f43601cc2c7d'), 2.51497689855e-07),\n",
       " (('biosphere3', 'efd3798a-ff6b-46ef-b408-0e74d80548cc'), 2.21810478453e-06),\n",
       " (('biosphere3', 'c10f1360-e1dc-44fa-8c2d-00bdd8524724'), 5.68929348804e-06),\n",
       " (('biosphere3', '5ffb3576-740f-41ba-814f-8538d83a4b3b'), 4.51538282679e-05)]"
      ]
     },
     "execution_count": 40,
     "metadata": {},
     "output_type": "execute_result"
    }
   ],
   "source": [
    "method_data = Method(method_key).load()\n",
    "print(\"Number of CFs:\", len(method_data))\n",
    "method_data[:20]"
   ]
  },
  {
   "attachments": {},
   "cell_type": "markdown",
   "metadata": {},
   "source": [
    "# Importing the `FORWAST` LCI Database\n",
    "\n",
    "We will use the FORWAST database, as it is both a high quality, comprehensive LCI database, and freely available. [FORWAST](http://forwast.brgm.fr/Overview.asp) is a physical MRIO table for Europe. It can be downloaded directly from the [2.-0 website](http://lca-net.com/projects/show/forwast/)."
   ]
  },
  {
   "cell_type": "code",
   "execution_count": 20,
   "metadata": {
    "collapsed": false
   },
   "outputs": [
    {
     "name": "stdout",
     "output_type": "stream",
     "text": [
      "Warning: No valid output stream.\n",
      "Title: Writing activities to SQLite3 database:\n",
      "  Started: 04/13/2023 09:21:47\n",
      "  Finished: 04/13/2023 09:21:48\n",
      "  Total time elapsed: 00:00:00\n",
      "  CPU %: 100.00\n",
      "  Memory %: 1.26\n"
     ]
    },
    {
     "data": {
      "text/plain": [
       "[Brightway2 SQLiteBackend: forwast]"
      ]
     },
     "execution_count": 20,
     "metadata": {},
     "output_type": "execute_result"
    }
   ],
   "source": [
    "filepath = bw2data.utils.download_file(\"forwast.bw2package.zip\", url=\"http://lca-net.com/wp-content/uploads/\")\n",
    "dirpath = os.path.dirname(filepath)\n",
    "zipfile.ZipFile(filepath).extractall(dirpath)\n",
    "bw2io.BW2Package.import_file(os.path.join(dirpath, \"forwast.bw2package\"))"
   ]
  },
  {
   "cell_type": "code",
   "execution_count": 21,
   "metadata": {},
   "outputs": [
    {
     "data": {
      "text/plain": [
       "Databases dictionary with 2 object(s):\n",
       "\tbiosphere3\n",
       "\tforwast"
      ]
     },
     "execution_count": 21,
     "metadata": {},
     "output_type": "execute_result"
    }
   ],
   "source": [
    "bw2data.databases"
   ]
  },
  {
   "attachments": {},
   "cell_type": "markdown",
   "metadata": {},
   "source": [
    "# Searching Datasets\n",
    "\n",
    "The `bw2data.Database.search` function covers the following data fields:\n",
    "* `name`\n",
    "* `comment`\n",
    "* `product`\n",
    "* `categories`\n",
    "* `location`"
   ]
  },
  {
   "cell_type": "code",
   "execution_count": 22,
   "metadata": {
    "collapsed": false
   },
   "outputs": [
    {
     "data": {
      "text/plain": [
       "['_26 Food preparations n.e.c., DK' (kilogram, GLO, ['Input Output', 'Denmark 2003']),\n",
       " '_26 Food preparations n.e.c., EU27' (kilogram, GLO, ['Input Output', 'EU27 2003']),\n",
       " '116 Waste treatment, Landfill of waste, Food, EU27' (kilogram, GLO, ['Input Output', 'EU27 2003']),\n",
       " '101 Waste treatment, Incineration of waste, Food, EU27' (kilogram, GLO, ['Input Output', 'EU27 2003']),\n",
       " '103 Waste treatment, Composting of food waste, DK' (kilogram, GLO, ['Input Output', 'Denmark 2003']),\n",
       " '100 Waste treatment, Biogasification of food waste, DK' (kilogram, GLO, ['Input Output', 'Denmark 2003']),\n",
       " '112 Waste treatment, Composting of food waste, EU27' (kilogram, GLO, ['Input Output', 'EU27 2003']),\n",
       " '_92 Waste treatment, Incineration of waste, Food, DK' (kilogram, GLO, ['Input Output', 'Denmark 2003']),\n",
       " '107 Waste treatment, Landfill of waste, Food, DK' (kilogram, GLO, ['Input Output', 'Denmark 2003']),\n",
       " '109 Waste treatment, Biogasification of food waste, EU27' (kilogram, GLO, ['Input Output', 'EU27 2003']),\n",
       " '114 Waste treatment, Waste water treatment, food, EU27' (kilogram, GLO, ['Input Output', 'EU27 2003']),\n",
       " '105 Waste treatment, Waste water treatment, food, DK' (kilogram, GLO, ['Input Output', 'Denmark 2003'])]"
      ]
     },
     "execution_count": 22,
     "metadata": {},
     "output_type": "execute_result"
    }
   ],
   "source": [
    "bw2data.Database(\"forwast\").search(\"food\")"
   ]
  },
  {
   "attachments": {},
   "cell_type": "markdown",
   "metadata": {},
   "source": [
    "You can also use the `*` wildcard in search queries. By default, the function returns the first 25 search results."
   ]
  },
  {
   "cell_type": "code",
   "execution_count": 23,
   "metadata": {
    "collapsed": false
   },
   "outputs": [
    {
     "data": {
      "text/plain": [
       "['Carbon monoxide, from soil or biomass stock' (kilogram, None, ('air', 'non-urban air or from high stacks')),\n",
       " 'Carboxin' (kilogram, None, ('water',)),\n",
       " 'Carbon dioxide, fossil' (kilogram, None, ('air',)),\n",
       " 'Carbon monoxide, from soil or biomass stock' (kilogram, None, ('air', 'lower stratosphere + upper troposphere')),\n",
       " 'Carbon dioxide, in air' (kilogram, None, ('natural resource', 'in air')),\n",
       " 'Carbon monoxide, non-fossil' (kilogram, None, ('air', 'low population density, long-term')),\n",
       " 'Carbon dioxide, to soil or biomass stock' (kilogram, None, ('soil', 'agricultural')),\n",
       " 'Boron carbide' (kilogram, None, ('air', 'non-urban air or from high stacks')),\n",
       " 'Carbendazim' (kilogram, None, ('water', 'ground-')),\n",
       " 'Carboxin' (kilogram, None, ('air', 'non-urban air or from high stacks'))]"
      ]
     },
     "execution_count": 23,
     "metadata": {},
     "output_type": "execute_result"
    }
   ],
   "source": [
    "bw2data.Database(\"biosphere3\").search(\"carb*\", limit=10)"
   ]
  },
  {
   "attachments": {},
   "cell_type": "markdown",
   "metadata": {},
   "source": [
    "Searches can also be filtered (where only the results that meet the specified criteria are *included*) or masked (where results that meet the specified criteria are *excluded*). You can specify inclusion or exclusion criteria for fields with `filter` and `mask`:"
   ]
  },
  {
   "cell_type": "code",
   "execution_count": 24,
   "metadata": {
    "collapsed": false
   },
   "outputs": [
    {
     "name": "stdout",
     "output_type": "stream",
     "text": [
      "Excluding 77 filtered results\n"
     ]
    },
    {
     "data": {
      "text/plain": [
       "['Carbon' (kilogram, None, ('soil', 'forestry')),\n",
       " 'Carbon dioxide, to soil or biomass stock' (kilogram, None, ('soil', 'forestry'))]"
      ]
     },
     "execution_count": 24,
     "metadata": {},
     "output_type": "execute_result"
    }
   ],
   "source": [
    "bw2data.Database(\"biosphere3\").search(\"carbon\", filter={\"categories\": 'forestry'})"
   ]
  },
  {
   "cell_type": "code",
   "execution_count": 25,
   "metadata": {
    "collapsed": false
   },
   "outputs": [
    {
     "name": "stdout",
     "output_type": "stream",
     "text": [
      "Excluding 2 filtered results\n"
     ]
    },
    {
     "data": {
      "text/plain": [
       "['Carbon' (kilogram, None, ('soil', 'industrial')),\n",
       " 'Carbon' (kilogram, None, ('soil',)),\n",
       " 'Carbon' (kilogram, None, ('soil', 'agricultural')),\n",
       " 'Elemental carbon' (kilogram, None, ('water',)),\n",
       " 'Carbon disulfide' (kilogram, None, ('air', 'urban air close to ground')),\n",
       " 'Organic carbon' (kilogram, None, ('water', 'ground-')),\n",
       " 'Elemental carbon' (kilogram, None, ('air', 'urban air close to ground')),\n",
       " 'Organic carbon' (kilogram, None, ('air', 'urban air close to ground')),\n",
       " 'Carbon disulfide' (kilogram, None, ('water', 'surface water')),\n",
       " 'Carbon disulfide' (kilogram, None, ('water', 'ground-'))]"
      ]
     },
     "execution_count": 25,
     "metadata": {},
     "output_type": "execute_result"
    }
   ],
   "source": [
    "bw2data.Database(\"biosphere3\").search(\"carbon\", limit=10, mask={\"categories\": 'forestry'})"
   ]
  },
  {
   "cell_type": "markdown",
   "metadata": {},
   "source": [
    "## Changing iteration order\n",
    "\n",
    "You can also change the way that processes are iterated over in the database. The default order is random:"
   ]
  },
  {
   "cell_type": "code",
   "execution_count": 75,
   "metadata": {
    "collapsed": false
   },
   "outputs": [
    {
     "name": "stdout",
     "output_type": "stream",
     "text": [
      "'_90 Financial intermediation, EU27' (EUR2003, GLO, ['Input Output', 'EU27 2003'])\n",
      "'111 Waste treatment, Biogasification of sewage slugde, EU27' (kilogram, GLO, ['Input Output', 'EU27 2003'])\n",
      "'120 Waste treatment, Land application of compost, DK' (kilogram, GLO, ['Input Output', 'Denmark 2003'])\n",
      "'_24 Sugar, DK' (kilogram, GLO, ['Input Output', 'Denmark 2003'])\n",
      "'_66 Electricity, steam and hot water, DK' (kilowatt hour, GLO, ['Input Output', 'Denmark 2003'])\n",
      "'131 Household use, Meals, DK' (EUR2003, GLO, ['Input Output', 'Denmark 2003'])\n",
      "'_42 Rubber and plastic products, DK' (kilogram, GLO, ['Input Output', 'Denmark 2003'])\n",
      "'_45 Cement, virgin, DK' (kilogram, GLO, ['Input Output', 'Denmark 2003'])\n",
      "'_88 Cargo handling, harbours and travel agencies, EU27' (EUR2003, GLO, ['Input Output', 'EU27 2003'])\n",
      "'__7 Horticulture, orchards etc., DK' (kilogram, GLO, ['Input Output', 'Denmark 2003'])\n"
     ]
    }
   ],
   "source": [
    "db = Database(\"forwast\")\n",
    "\n",
    "def print_10(db):\n",
    "    for i, x in enumerate(db):\n",
    "        if i < 10:\n",
    "            print(x)\n",
    "        else:\n",
    "            break\n",
    "            \n",
    "print_10(db)"
   ]
  },
  {
   "cell_type": "code",
   "execution_count": 76,
   "metadata": {
    "collapsed": false
   },
   "outputs": [
    {
     "name": "stdout",
     "output_type": "stream",
     "text": [
      "'_36 Refined petroleum products and fuels, DK' (kilogram, GLO, ['Input Output', 'Denmark 2003'])\n",
      "'140 Household use, Meals, EU27' (EUR2003, GLO, ['Input Output', 'EU27 2003'])\n",
      "'127 Waste treatment, Landfill of waste, Oil' (kilogram, Hazardous waste, EU27, ['Input Output', 'EU27 2003'])\n",
      "'113 Waste treatment, Landfill of waste, Metals nec, DK' (kilogram, GLO, ['Input Output', 'Denmark 2003'])\n",
      "'_58 Recycling of copper basic, EU27' (kilogram, GLO, ['Input Output', 'EU27 2003'])\n",
      "'_25 Animal feeds, EU27' (kilogram, GLO, ['Input Output', 'EU27 2003'])\n",
      "'129 Waste treatment, Land application of compost, EU27' (kilogram, GLO, ['Input Output', 'EU27 2003'])\n",
      "'105 Waste treatment, Incineration of waste, Glass' (kilogram, inert, EU27, ['Input Output', 'EU27 2003'])\n",
      "'_45 Cement, virgin, DK' (kilogram, GLO, ['Input Output', 'Denmark 2003'])\n",
      "'_14 Copper from mine, EU27' (kilogram, GLO, ['Input Output', 'EU27 2003'])\n"
     ]
    }
   ],
   "source": [
    "print_10(db)"
   ]
  },
  {
   "cell_type": "markdown",
   "metadata": {},
   "source": [
    "You can sort by `location`, `name`, `product` (reference product), or `type`, by specifying the `order_by` property."
   ]
  },
  {
   "cell_type": "code",
   "execution_count": 78,
   "metadata": {
    "collapsed": false
   },
   "outputs": [
    {
     "name": "stdout",
     "output_type": "stream",
     "text": [
      "'_78 Buildings, residential, EU27' (EUR2003, GLO, ['Input Output', 'EU27 2003'])\n",
      "'106 Waste treatment, Incineration of waste, Textiles, EU27' (kilogram, GLO, ['Input Output', 'EU27 2003'])\n",
      "'_83 Retail  trade and repair services, EU27' (EUR2003, GLO, ['Input Output', 'EU27 2003'])\n",
      "'_54 Recycling of copper basic, DK' (kilogram, GLO, ['Input Output', 'Denmark 2003'])\n",
      "'_41 Plastics basic, virgin, EU27' (kilogram, GLO, ['Input Output', 'EU27 2003'])\n",
      "'_19 Meat products, Fish, DK' (kilogram, GLO, ['Input Output', 'Denmark 2003'])\n",
      "'126 Household use, Education, DK' (EUR2003, GLO, ['Input Output', 'Denmark 2003'])\n",
      "'117 Waste treatment, Landfill of waste, Wood, DK' (kilogram, GLO, ['Input Output', 'Denmark 2003'])\n",
      "'_77 Water, fresh, EU27' (EUR2003, GLO, ['Input Output', 'EU27 2003'])\n",
      "'134 Household use, Communication, EU27' (EUR2003, GLO, ['Input Output', 'EU27 2003'])\n"
     ]
    }
   ],
   "source": [
    "db.order_by = \"location\"\n",
    "print_10(db)"
   ]
  },
  {
   "cell_type": "markdown",
   "metadata": {},
   "source": [
    "If the above seems wrong, remember that the names start with `100`, `101`, etc.\n",
    "\n",
    "Set `.order_by = None` to remove any ordering."
   ]
  },
  {
   "cell_type": "code",
   "execution_count": 79,
   "metadata": {
    "collapsed": true
   },
   "outputs": [],
   "source": [
    "db.order_by = None"
   ]
  },
  {
   "cell_type": "markdown",
   "metadata": {},
   "source": [
    "Because accessing activities in the database is quite fast, you can also filter the activities you want by just iterating over the entire database:"
   ]
  },
  {
   "cell_type": "code",
   "execution_count": 99,
   "metadata": {},
   "outputs": [
    {
     "data": {
      "text/plain": [
       "[]"
      ]
     },
     "execution_count": 99,
     "metadata": {},
     "output_type": "execute_result"
    }
   ],
   "source": [
    "bw2data.Database('fowast').search('electricity')"
   ]
  },
  {
   "cell_type": "code",
   "execution_count": 105,
   "metadata": {},
   "outputs": [
    {
     "data": {
      "text/plain": [
       "['_68 Electrical machinery n.e.c., EU27' (kilogram, GLO, ['Input Output', 'EU27 2003']),\n",
       " '_59 Electrical machinery n.e.c., DK' (kilogram, GLO, ['Input Output', 'Denmark 2003']),\n",
       " '_75 Electricity, steam and hot water, EU27' (kilowatt hour, GLO, ['Input Output', 'EU27 2003']),\n",
       " '_66 Electricity, steam and hot water, DK' (kilowatt hour, GLO, ['Input Output', 'Denmark 2003'])]"
      ]
     },
     "execution_count": 105,
     "metadata": {},
     "output_type": "execute_result"
    }
   ],
   "source": [
    "bw2data.Database('forwast').search('electr*')"
   ]
  },
  {
   "cell_type": "code",
   "execution_count": 92,
   "metadata": {
    "collapsed": false
   },
   "outputs": [
    {
     "data": {
      "text/plain": [
       "['_75 Electricity, steam and hot water, EU27' (kilowatt hour, GLO, ['Input Output', 'EU27 2003']),\n",
       " '_66 Electricity, steam and hot water, DK' (kilowatt hour, GLO, ['Input Output', 'Denmark 2003']),\n",
       " '_68 Electrical machinery n.e.c., EU27' (kilogram, GLO, ['Input Output', 'EU27 2003']),\n",
       " '_59 Electrical machinery n.e.c., DK' (kilogram, GLO, ['Input Output', 'Denmark 2003'])]"
      ]
     },
     "execution_count": 92,
     "metadata": {},
     "output_type": "execute_result"
    }
   ],
   "source": [
    "my_activities = [x for x in db if 'Electr' in x['name']]\n",
    "my_activities"
   ]
  },
  {
   "cell_type": "markdown",
   "metadata": {},
   "source": [
    "# Basic LCA calculations\n",
    "\n",
    "Let's pick and random process and LCIA method:"
   ]
  },
  {
   "cell_type": "code",
   "execution_count": 111,
   "metadata": {
    "collapsed": false
   },
   "outputs": [
    {
     "data": {
      "text/plain": [
       "'_67 Gas, DK' (kilogram, GLO, ['Input Output', 'Denmark 2003'])"
      ]
     },
     "execution_count": 111,
     "metadata": {},
     "output_type": "execute_result"
    }
   ],
   "source": [
    "process: Activity = Database(\"forwast\").random()\n",
    "process"
   ]
  },
  {
   "cell_type": "code",
   "execution_count": 110,
   "metadata": {},
   "outputs": [],
   "source": [
    "from bw2data.backends.peewee.proxies import Activity"
   ]
  },
  {
   "cell_type": "code",
   "execution_count": 107,
   "metadata": {},
   "outputs": [
    {
     "data": {
      "text/plain": [
       "bw2data.backends.peewee.proxies.Activity"
      ]
     },
     "execution_count": 107,
     "metadata": {},
     "output_type": "execute_result"
    }
   ],
   "source": [
    "type(process)"
   ]
  },
  {
   "cell_type": "markdown",
   "metadata": {},
   "source": [
    "A brief review of LCA calculations:\n",
    "\n",
    "In matrix-based LCA, we construct a *technosphere* matrix, which describes the inputs needed to produce different products (e.g. cars need metal and electricity), and a *biosphere* matrix, which describes the emissions and resource consumption associated with the production of each product (e.g. car manufacturing releases air emissions). These two matrices come from the life cycle inventory database(s). We also have a *functional unit*, which is what we are trying to assess, e.g. one car. We then calculate the *life cycle inventory* (LCI) by first solving the linear system of the technosphere matrix and the functional unit, and then by multiplying the biosphere matrix.\n",
    "\n",
    "To do *life cycle impact assessment* (LCIA), we multiply the life cycle inventory by a matrix of characterization factors, which tell how bad different emissions and resource consumptions are.\n",
    "\n",
    "For more details on the math, see the [manual](https://docs.brightwaylca.org/lca.html).\n",
    "\n",
    "So, our first step is to specify the functional unit, which is relatively easy:"
   ]
  },
  {
   "cell_type": "code",
   "execution_count": 112,
   "metadata": {
    "collapsed": true
   },
   "outputs": [],
   "source": [
    "functional_unit = {process: 1}"
   ]
  },
  {
   "cell_type": "markdown",
   "metadata": {},
   "source": [
    "We can then instantiate our [LCA object](https://docs.brightwaylca.org/technical/bw2calc.html#lca). "
   ]
  },
  {
   "cell_type": "code",
   "execution_count": 177,
   "metadata": {
    "collapsed": false
   },
   "outputs": [],
   "source": [
    "lca = bw2calc.LCA(demand = functional_unit, method = method_key)"
   ]
  },
  {
   "cell_type": "code",
   "execution_count": 178,
   "metadata": {},
   "outputs": [
    {
     "data": {
      "text/plain": [
       "bw2calc.lca.LCA"
      ]
     },
     "execution_count": 178,
     "metadata": {},
     "output_type": "execute_result"
    }
   ],
   "source": [
    "type(lca)"
   ]
  },
  {
   "cell_type": "markdown",
   "metadata": {},
   "source": [
    "And do the LCI and LCIA calculations:"
   ]
  },
  {
   "cell_type": "code",
   "execution_count": 179,
   "metadata": {},
   "outputs": [],
   "source": [
    "lca.lci()"
   ]
  },
  {
   "cell_type": "code",
   "execution_count": 180,
   "metadata": {},
   "outputs": [],
   "source": [
    "lca.lcia()"
   ]
  },
  {
   "cell_type": "code",
   "execution_count": 181,
   "metadata": {},
   "outputs": [
    {
     "data": {
      "text/plain": [
       "0.16681173303620245"
      ]
     },
     "execution_count": 181,
     "metadata": {},
     "output_type": "execute_result"
    }
   ],
   "source": [
    "lca.score"
   ]
  },
  {
   "cell_type": "code",
   "execution_count": null,
   "metadata": {
    "collapsed": false
   },
   "outputs": [],
   "source": [
    "lca.lci()\n",
    "lca.lcia()"
   ]
  },
  {
   "cell_type": "markdown",
   "metadata": {},
   "source": [
    "Finally, we can print the LCA score:"
   ]
  },
  {
   "cell_type": "code",
   "execution_count": 126,
   "metadata": {
    "collapsed": false
   },
   "outputs": [
    {
     "data": {
      "text/plain": [
       "0.0"
      ]
     },
     "execution_count": 126,
     "metadata": {},
     "output_type": "execute_result"
    }
   ],
   "source": [
    "lca.score"
   ]
  },
  {
   "cell_type": "markdown",
   "metadata": {},
   "source": [
    "You can reuse the same matrices but change the functional unit by using the `redo_lci` and `redo_lcia` functions:"
   ]
  },
  {
   "cell_type": "code",
   "execution_count": 184,
   "metadata": {
    "collapsed": false
   },
   "outputs": [
    {
     "name": "stdout",
     "output_type": "stream",
     "text": [
      "'107 Waste treatment, Incineration of waste, Wood, EU27' (kilogram, GLO, ['Input Output', 'EU27 2003'])\n"
     ]
    },
    {
     "data": {
      "text/plain": [
       "-1.9815068474766349"
      ]
     },
     "execution_count": 184,
     "metadata": {},
     "output_type": "execute_result"
    }
   ],
   "source": [
    "new_process = Database(\"forwast\").random()\n",
    "print(new_process)\n",
    "lca.redo_lcia({new_process: 1})\n",
    "lca.score"
   ]
  },
  {
   "cell_type": "markdown",
   "metadata": {},
   "source": [
    "# Looking into the LCA object\n",
    "\n",
    "Let's see what is in this `LCA` thing, anyway. Put your cursor in the following cell and hit tab:"
   ]
  },
  {
   "cell_type": "code",
   "execution_count": 186,
   "metadata": {
    "collapsed": false
   },
   "outputs": [
    {
     "data": {
      "text/plain": [
       "<bw2calc.lca.LCA at 0x29236c9d0>"
      ]
     },
     "execution_count": 186,
     "metadata": {},
     "output_type": "execute_result"
    }
   ],
   "source": [
    "lca."
   ]
  },
  {
   "cell_type": "markdown",
   "metadata": {},
   "source": [
    "So, there is a lot. Let's look at a few things:\n",
    "\n",
    "* The technosphere matrix"
   ]
  },
  {
   "cell_type": "code",
   "execution_count": 187,
   "metadata": {
    "collapsed": false
   },
   "outputs": [
    {
     "data": {
      "text/plain": [
       "<277x277 sparse matrix of type '<class 'numpy.float64'>'\n",
       "\twith 36825 stored elements in Compressed Sparse Row format>"
      ]
     },
     "execution_count": 187,
     "metadata": {},
     "output_type": "execute_result"
    }
   ],
   "source": [
    "lca.technosphere_matrix"
   ]
  },
  {
   "cell_type": "markdown",
   "metadata": {},
   "source": [
    "* The biosphere matrix"
   ]
  },
  {
   "cell_type": "code",
   "execution_count": 188,
   "metadata": {
    "collapsed": false
   },
   "outputs": [
    {
     "data": {
      "text/plain": [
       "<20x277 sparse matrix of type '<class 'numpy.float64'>'\n",
       "\twith 2170 stored elements in Compressed Sparse Row format>"
      ]
     },
     "execution_count": 188,
     "metadata": {},
     "output_type": "execute_result"
    }
   ],
   "source": [
    "lca.biosphere_matrix"
   ]
  },
  {
   "cell_type": "markdown",
   "metadata": {},
   "source": [
    "* The characterization matrix"
   ]
  },
  {
   "cell_type": "code",
   "execution_count": 189,
   "metadata": {
    "collapsed": false
   },
   "outputs": [
    {
     "data": {
      "text/plain": [
       "<20x20 sparse matrix of type '<class 'numpy.float64'>'\n",
       "\twith 3 stored elements in Compressed Sparse Row format>"
      ]
     },
     "execution_count": 189,
     "metadata": {},
     "output_type": "execute_result"
    }
   ],
   "source": [
    "lca.characterization_matrix"
   ]
  },
  {
   "cell_type": "markdown",
   "metadata": {},
   "source": [
    "# Graphing matrices\n",
    "\n",
    "Sometimes it can be helpful to visualize both the inputs and calculation results."
   ]
  },
  {
   "cell_type": "code",
   "execution_count": 190,
   "metadata": {
    "collapsed": false
   },
   "outputs": [],
   "source": [
    "%matplotlib inline"
   ]
  },
  {
   "cell_type": "markdown",
   "metadata": {},
   "source": [
    "If you get some warnings here, you can ignore them again."
   ]
  },
  {
   "cell_type": "code",
   "execution_count": 191,
   "metadata": {
    "collapsed": true
   },
   "outputs": [],
   "source": [
    "from bw2analyzer.matrix_grapher import SparseMatrixGrapher"
   ]
  },
  {
   "cell_type": "markdown",
   "metadata": {},
   "source": [
    "First, let's look at the technosphere matrix.\n",
    "\n",
    "You can pass in a filename to get a higher resolution figure saved as a file."
   ]
  },
  {
   "cell_type": "code",
   "execution_count": 192,
   "metadata": {
    "collapsed": false
   },
   "outputs": [
    {
     "data": {
      "image/png": "[encoded data removed]",
      "text/plain": [
       "<Figure size 27.7x27.7 with 1 Axes>"
      ]
     },
     "metadata": {},
     "output_type": "display_data"
    }
   ],
   "source": [
    "SparseMatrixGrapher(lca.technosphere_matrix).ordered_graph()"
   ]
  },
  {
   "cell_type": "markdown",
   "metadata": {},
   "source": [
    "Not so interesting - I am sure your inventory data will be much nicer. The problem is that this is an IO matrix, so there is a value at each point, even if it is small, and this graph only shows where values are or aren't zero. For example, here is the same graph for ecoinvent 3.2 (cutoff):\n",
    "\n",
    "<img src=\"https://brightwaylca.org/data/ecoinvent-32-cutoff.png\">\n",
    "\n",
    "You can also graph the biosphere and any other LCA matrices."
   ]
  },
  {
   "cell_type": "markdown",
   "metadata": {},
   "source": [
    "# Contribution analysis\n",
    "\n",
    "We can calculate the most important activities and biosphere flows."
   ]
  },
  {
   "cell_type": "code",
   "execution_count": 193,
   "metadata": {
    "collapsed": true
   },
   "outputs": [],
   "source": [
    "import bw2analyzer"
   ]
  },
  {
   "cell_type": "markdown",
   "metadata": {},
   "source": [
    "Most important activities"
   ]
  },
  {
   "cell_type": "code",
   "execution_count": 194,
   "metadata": {
    "collapsed": false
   },
   "outputs": [
    {
     "data": {
      "text/plain": [
       "[(-1.9352269361068175,\n",
       "  -4.785996584968771,\n",
       "  '_75 Electricity, steam and hot water, EU27' (kilowatt hour, GLO, ['Input Output', 'EU27 2003'])),\n",
       " (-0.028480940744074236,\n",
       "  -0.6466936816450355,\n",
       "  '_10 Coal, lignite, peat, EU27' (kilogram, GLO, ['Input Output', 'EU27 2003'])),\n",
       " (0.024491842149862632,\n",
       "  0.03414256711552382,\n",
       "  '_47 Cement, virgin, EU27' (kilogram, GLO, ['Input Output', 'EU27 2003'])),\n",
       " (-0.011943944298877072,\n",
       "  -0.16644433181721183,\n",
       "  '_11 Crude petroleum and natural gas, EU27' (kilogram, GLO, ['Input Output', 'EU27 2003'])),\n",
       " (-0.01061947546500826,\n",
       "  -0.06230120412581188,\n",
       "  '_37 Refined petroleum products and fuels, EU27' (kilogram, GLO, ['Input Output', 'EU27 2003'])),\n",
       " (-0.00469552535500119,\n",
       "  -0.05984950875191787,\n",
       "  '_76 Gas, EU27' (kilogram, GLO, ['Input Output', 'EU27 2003'])),\n",
       " (-0.0034281350631684714,\n",
       "  -0.0016714322119391182,\n",
       "  '_85 Land transport and transport via pipelines, EU27' (EUR2003, GLO, ['Input Output', 'EU27 2003'])),\n",
       " (0.0034274036078531076,\n",
       "  0.999282339023654,\n",
       "  '107 Waste treatment, Incineration of waste, Wood, EU27' (kilogram, GLO, ['Input Output', 'EU27 2003'])),\n",
       " (-0.00268062321096308,\n",
       "  -0.0020732176333499,\n",
       "  '_53 Iron basic, virgin, EU27' (kilogram, GLO, ['Input Output', 'EU27 2003'])),\n",
       " (-0.0025233315100635307,\n",
       "  -0.012706231305757355,\n",
       "  '_80 Infrastructure, excluding buildings, EU27' (EUR2003, GLO, ['Input Output', 'EU27 2003'])),\n",
       " (-0.0010075180464315149,\n",
       "  -0.03437191062739244,\n",
       "  '__7 Forest products, EU27' (kilogram, GLO, ['Input Output', 'EU27 2003'])),\n",
       " (-0.0007920219737569179,\n",
       "  -0.0006175549901620229,\n",
       "  '_39 Fertiliser, N, EU27' (kilogram, GLO, ['Input Output', 'EU27 2003'])),\n",
       " (-0.0007752015162202893,\n",
       "  -0.0003386641646611913,\n",
       "  '_86 Transport by ship, EU27' (EUR2003, GLO, ['Input Output', 'EU27 2003'])),\n",
       " (-0.00058423069808198,\n",
       "  -0.0013558487764025425,\n",
       "  '_54 Recycling of iron basic, EU27' (kilogram, GLO, ['Input Output', 'EU27 2003'])),\n",
       " (-0.0005272107993391928,\n",
       "  -0.0015507237648360436,\n",
       "  '__4 Grain crops, EU27' (kilogram, GLO, ['Input Output', 'EU27 2003'])),\n",
       " (-0.00045281600766186727,\n",
       "  -0.0015905688185593237,\n",
       "  '_61 Iron, after first processing, EU27' (kilogram, GLO, ['Input Output', 'EU27 2003'])),\n",
       " (-0.0004473232510174825,\n",
       "  -0.0004369698984306716,\n",
       "  '_41 Plastics basic, virgin, EU27' (kilogram, GLO, ['Input Output', 'EU27 2003'])),\n",
       " (-0.0003648277746691629,\n",
       "  -0.012289169389912539,\n",
       "  '_49 Concrete, asphalt and other mineral products, EU27' (kilogram, GLO, ['Input Output', 'EU27 2003'])),\n",
       " (-0.00033923078664150485,\n",
       "  -0.00030366708499426296,\n",
       "  '_87 Air transport, EU27' (EUR2003, GLO, ['Input Output', 'EU27 2003'])),\n",
       " (-0.00027863995885670607,\n",
       "  -0.00020330935213585852,\n",
       "  '_55 Aluminium basic, virgin, EU27' (kilogram, GLO, ['Input Output', 'EU27 2003'])),\n",
       " (-0.0002727064146136306,\n",
       "  -0.03675637889097572,\n",
       "  '_48 Recycling of slags and ashes, EU27' (kilogram, GLO, ['Input Output', 'EU27 2003'])),\n",
       " (-0.00026266568955938917,\n",
       "  -0.001963902378090419,\n",
       "  '_78 Buildings, residential, EU27' (EUR2003, GLO, ['Input Output', 'EU27 2003'])),\n",
       " (-0.00021358045770000309,\n",
       "  -0.0024539163658858277,\n",
       "  '_88 Cargo handling, harbours and travel agencies, EU27' (EUR2003, GLO, ['Input Output', 'EU27 2003'])),\n",
       " (-0.0002089052583523234,\n",
       "  -0.0006945269643449138,\n",
       "  '_44 Rubber and plastic products, EU27' (kilogram, GLO, ['Input Output', 'EU27 2003'])),\n",
       " (-0.0001928868128813573,\n",
       "  -0.0008771813812642377,\n",
       "  '_66 Machinery and equipment n.e.c., EU27' (kilogram, GLO, ['Input Output', 'EU27 2003']))]"
      ]
     },
     "execution_count": 194,
     "metadata": {},
     "output_type": "execute_result"
    }
   ],
   "source": [
    "bw2analyzer.ContributionAnalysis().annotated_top_processes(lca)"
   ]
  },
  {
   "cell_type": "markdown",
   "metadata": {},
   "source": [
    "Most important biosphere flows"
   ]
  },
  {
   "cell_type": "code",
   "execution_count": 197,
   "metadata": {
    "collapsed": false
   },
   "outputs": [
    {
     "ename": "ValueError",
     "evalue": "Inexact indices into sparse matrices are not allowed",
     "output_type": "error",
     "traceback": [
      "\u001b[0;31m---------------------------------------------------------------------------\u001b[0m",
      "\u001b[0;31mTypeError\u001b[0m                                 Traceback (most recent call last)",
      "File \u001b[0;32m/opt/homebrew/Caskroom/miniconda/base/envs/bw2arm/lib/python3.11/site-packages/scipy/sparse/_sputils.py:225\u001b[0m, in \u001b[0;36misintlike\u001b[0;34m(x)\u001b[0m\n\u001b[1;32m    224\u001b[0m \u001b[39mtry\u001b[39;00m:\n\u001b[0;32m--> 225\u001b[0m     operator\u001b[39m.\u001b[39mindex(x)\n\u001b[1;32m    226\u001b[0m \u001b[39mexcept\u001b[39;00m (\u001b[39mTypeError\u001b[39;00m, \u001b[39mValueError\u001b[39;00m):\n",
      "\u001b[0;31mTypeError\u001b[0m: 'numpy.float64' object cannot be interpreted as an integer",
      "\nDuring handling of the above exception, another exception occurred:\n",
      "\u001b[0;31mValueError\u001b[0m                                Traceback (most recent call last)",
      "Cell \u001b[0;32mIn[197], line 1\u001b[0m\n\u001b[0;32m----> 1\u001b[0m bw2analyzer\u001b[39m.\u001b[39;49mContributionAnalysis()\u001b[39m.\u001b[39;49mannotated_top_emissions(lca)\n",
      "File \u001b[0;32m/opt/homebrew/Caskroom/miniconda/base/envs/bw2arm/lib/python3.11/site-packages/bw2analyzer/contribution.py:152\u001b[0m, in \u001b[0;36mContributionAnalysis.annotated_top_emissions\u001b[0;34m(self, lca, names, **kwargs)\u001b[0m\n\u001b[1;32m    146\u001b[0m \u001b[39m\u001b[39m\u001b[39m\"\"\"Get list of most damaging biosphere flows in an LCA, sorted by ``abs(direct impact)``.\u001b[39;00m\n\u001b[1;32m    147\u001b[0m \n\u001b[1;32m    148\u001b[0m \u001b[39mReturns a list of tuples: ``(lca score, inventory amount, activity)``. If ``names`` is False, they returns the process key as the last element.\u001b[39;00m\n\u001b[1;32m    149\u001b[0m \n\u001b[1;32m    150\u001b[0m \u001b[39m\"\"\"\u001b[39;00m\n\u001b[1;32m    151\u001b[0m ra, rp, rb \u001b[39m=\u001b[39m lca\u001b[39m.\u001b[39mreverse_dict()\n\u001b[0;32m--> 152\u001b[0m results \u001b[39m=\u001b[39m [\n\u001b[1;32m    153\u001b[0m     (score, lca\u001b[39m.\u001b[39;49minventory[index, :]\u001b[39m.\u001b[39;49msum(), rb[index])\n\u001b[1;32m    154\u001b[0m     \u001b[39mfor\u001b[39;49;00m score, index \u001b[39min\u001b[39;49;00m \u001b[39mself\u001b[39;49m\u001b[39m.\u001b[39;49mtop_emissions(\n\u001b[1;32m    155\u001b[0m         lca\u001b[39m.\u001b[39;49mcharacterized_inventory, \u001b[39m*\u001b[39;49m\u001b[39m*\u001b[39;49mkwargs\n\u001b[1;32m    156\u001b[0m     )\n\u001b[1;32m    157\u001b[0m ]\n\u001b[1;32m    158\u001b[0m \u001b[39mif\u001b[39;00m names:\n\u001b[1;32m    159\u001b[0m     results \u001b[39m=\u001b[39m [(x[\u001b[39m0\u001b[39m], x[\u001b[39m1\u001b[39m], get_activity(x[\u001b[39m2\u001b[39m])) \u001b[39mfor\u001b[39;00m x \u001b[39min\u001b[39;00m results]\n",
      "File \u001b[0;32m/opt/homebrew/Caskroom/miniconda/base/envs/bw2arm/lib/python3.11/site-packages/bw2analyzer/contribution.py:153\u001b[0m, in \u001b[0;36m<listcomp>\u001b[0;34m(.0)\u001b[0m\n\u001b[1;32m    146\u001b[0m \u001b[39m\u001b[39m\u001b[39m\"\"\"Get list of most damaging biosphere flows in an LCA, sorted by ``abs(direct impact)``.\u001b[39;00m\n\u001b[1;32m    147\u001b[0m \n\u001b[1;32m    148\u001b[0m \u001b[39mReturns a list of tuples: ``(lca score, inventory amount, activity)``. If ``names`` is False, they returns the process key as the last element.\u001b[39;00m\n\u001b[1;32m    149\u001b[0m \n\u001b[1;32m    150\u001b[0m \u001b[39m\"\"\"\u001b[39;00m\n\u001b[1;32m    151\u001b[0m ra, rp, rb \u001b[39m=\u001b[39m lca\u001b[39m.\u001b[39mreverse_dict()\n\u001b[1;32m    152\u001b[0m results \u001b[39m=\u001b[39m [\n\u001b[0;32m--> 153\u001b[0m     (score, lca\u001b[39m.\u001b[39;49minventory[index, :]\u001b[39m.\u001b[39msum(), rb[index])\n\u001b[1;32m    154\u001b[0m     \u001b[39mfor\u001b[39;00m score, index \u001b[39min\u001b[39;00m \u001b[39mself\u001b[39m\u001b[39m.\u001b[39mtop_emissions(\n\u001b[1;32m    155\u001b[0m         lca\u001b[39m.\u001b[39mcharacterized_inventory, \u001b[39m*\u001b[39m\u001b[39m*\u001b[39mkwargs\n\u001b[1;32m    156\u001b[0m     )\n\u001b[1;32m    157\u001b[0m ]\n\u001b[1;32m    158\u001b[0m \u001b[39mif\u001b[39;00m names:\n\u001b[1;32m    159\u001b[0m     results \u001b[39m=\u001b[39m [(x[\u001b[39m0\u001b[39m], x[\u001b[39m1\u001b[39m], get_activity(x[\u001b[39m2\u001b[39m])) \u001b[39mfor\u001b[39;00m x \u001b[39min\u001b[39;00m results]\n",
      "File \u001b[0;32m/opt/homebrew/Caskroom/miniconda/base/envs/bw2arm/lib/python3.11/site-packages/scipy/sparse/_index.py:47\u001b[0m, in \u001b[0;36mIndexMixin.__getitem__\u001b[0;34m(self, key)\u001b[0m\n\u001b[1;32m     46\u001b[0m \u001b[39mdef\u001b[39;00m \u001b[39m__getitem__\u001b[39m(\u001b[39mself\u001b[39m, key):\n\u001b[0;32m---> 47\u001b[0m     row, col \u001b[39m=\u001b[39m \u001b[39mself\u001b[39;49m\u001b[39m.\u001b[39;49m_validate_indices(key)\n\u001b[1;32m     49\u001b[0m     \u001b[39m# Dispatch to specialized methods.\u001b[39;00m\n\u001b[1;32m     50\u001b[0m     \u001b[39mif\u001b[39;00m \u001b[39misinstance\u001b[39m(row, INT_TYPES):\n",
      "File \u001b[0;32m/opt/homebrew/Caskroom/miniconda/base/envs/bw2arm/lib/python3.11/site-packages/scipy/sparse/_index.py:152\u001b[0m, in \u001b[0;36mIndexMixin._validate_indices\u001b[0;34m(self, key)\u001b[0m\n\u001b[1;32m    149\u001b[0m M, N \u001b[39m=\u001b[39m \u001b[39mself\u001b[39m\u001b[39m.\u001b[39mshape\n\u001b[1;32m    150\u001b[0m row, col \u001b[39m=\u001b[39m _unpack_index(key)\n\u001b[0;32m--> 152\u001b[0m \u001b[39mif\u001b[39;00m isintlike(row):\n\u001b[1;32m    153\u001b[0m     row \u001b[39m=\u001b[39m \u001b[39mint\u001b[39m(row)\n\u001b[1;32m    154\u001b[0m     \u001b[39mif\u001b[39;00m row \u001b[39m<\u001b[39m \u001b[39m-\u001b[39mM \u001b[39mor\u001b[39;00m row \u001b[39m>\u001b[39m\u001b[39m=\u001b[39m M:\n",
      "File \u001b[0;32m/opt/homebrew/Caskroom/miniconda/base/envs/bw2arm/lib/python3.11/site-packages/scipy/sparse/_sputils.py:233\u001b[0m, in \u001b[0;36misintlike\u001b[0;34m(x)\u001b[0m\n\u001b[1;32m    231\u001b[0m     \u001b[39mif\u001b[39;00m loose_int:\n\u001b[1;32m    232\u001b[0m         msg \u001b[39m=\u001b[39m \u001b[39m\"\u001b[39m\u001b[39mInexact indices into sparse matrices are not allowed\u001b[39m\u001b[39m\"\u001b[39m\n\u001b[0;32m--> 233\u001b[0m         \u001b[39mraise\u001b[39;00m \u001b[39mValueError\u001b[39;00m(msg)\n\u001b[1;32m    234\u001b[0m     \u001b[39mreturn\u001b[39;00m loose_int\n\u001b[1;32m    235\u001b[0m \u001b[39mreturn\u001b[39;00m \u001b[39mTrue\u001b[39;00m\n",
      "\u001b[0;31mValueError\u001b[0m: Inexact indices into sparse matrices are not allowed"
     ]
    }
   ],
   "source": [
    "bw2analyzer.ContributionAnalysis().annotated_top_emissions(lca)"
   ]
  },
  {
   "attachments": {},
   "cell_type": "markdown",
   "metadata": {},
   "source": [
    "# Monte Carlo LCA\n",
    "\n",
    "Unfortunately, the `forwast` database doesn't unclude uncertainty. Let's put some in anyways, using the utility function [uncertainify](https://docs.brightwaylca.org/technical/bw2data.html#bw2data.utils.uncertainify)."
   ]
  },
  {
   "cell_type": "code",
   "execution_count": null,
   "metadata": {
    "collapsed": false
   },
   "outputs": [],
   "source": [
    "uncertain_db = Database(\"forwast uncertain +\")\n",
    "uncertain_db.write(\n",
    "    uncertain_db.relabel_data(\n",
    "        bw2data.utils.uncertainify(\n",
    "            Database(\"forwast\").load(), \n",
    "            stats_arrays.NormalUncertainty\n",
    "        ), \n",
    "        \"forwast uncertain +\" \n",
    "    )\n",
    ")"
   ]
  },
  {
   "cell_type": "markdown",
   "metadata": {},
   "source": [
    "We can now calculate some Monte Carlo iterations for a random activity."
   ]
  },
  {
   "cell_type": "code",
   "execution_count": null,
   "metadata": {
    "collapsed": false
   },
   "outputs": [],
   "source": [
    "mc = MonteCarloLCA(demand={uncertain_db.random(): 1}, method=method_key)\n",
    "mc.load_data()\n",
    "for x in range(10):\n",
    "    print(next(mc))"
   ]
  }
 ],
 "metadata": {
  "kernelspec": {
   "display_name": "Python 3",
   "language": "python",
   "name": "python3"
  },
  "language_info": {
   "codemirror_mode": {
    "name": "ipython",
    "version": 3
   },
   "file_extension": ".py",
   "mimetype": "text/x-python",
   "name": "python",
   "nbconvert_exporter": "python",
   "pygments_lexer": "ipython3",
   "version": "3.11.3"
  }
 },
 "nbformat": 4,
 "nbformat_minor": 0
}
